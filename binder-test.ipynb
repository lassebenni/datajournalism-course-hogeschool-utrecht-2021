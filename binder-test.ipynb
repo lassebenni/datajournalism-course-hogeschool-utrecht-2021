{
 "cells": [
  {
   "cell_type": "markdown",
   "metadata": {},
   "source": [
    "R Code pulled from https://www.statmethods.net/advgraphs/ggplot2.html"
   ]
  },
  {
   "cell_type": "code",
   "execution_count": 1,
   "metadata": {},
   "outputs": [],
   "source": [
    "library(readr)\n",
    "packageVersion(\"readr\")\n",
    "read_csv(system.file(\"extdata/mtcars.csv\", package = \"readr\"))"
   ]
  }
 ],
 "metadata": {
  "kernelspec": {
   "display_name": "R",
   "language": "R",
   "name": "ir"
  },
  "language_info": {
   "codemirror_mode": "r",
   "file_extension": ".r",
   "mimetype": "text/x-r-source",
   "name": "R",
   "pygments_lexer": "r",
   "version": "3.4.2"
  }
 },
 "nbformat": 4,
 "nbformat_minor": 2
}